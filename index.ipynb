{
 "cells": [
  {
   "cell_type": "markdown",
   "metadata": {},
   "source": [
    "# Scraping Concerts - Lab\n",
    "\n",
    "## Introduction\n",
    "\n",
    "Now that you've seen how to scrape a simple website, it's time to again practice those skills on a full-fledged site!\n",
    "In this lab, you'll practice your scraping skills on a music website: https://www.residentadvisor.net.\n",
    "## Objectives\n",
    "\n",
    "You will be able to:\n",
    "* Scrape events from a website\n",
    "* Follow links to those events to retrieve further information\n",
    "* Clean and store scraped data"
   ]
  },
  {
   "cell_type": "markdown",
   "metadata": {},
   "source": [
    "## View the Website\n",
    "\n",
    "For this lab, you'll be scraping the https://www.residentadvisor.net website. Start by navigating to the events page [here](https://www.residentadvisor.net/events) in your browser.\n",
    "\n",
    "<img src=\"images/ra.png\">"
   ]
  },
  {
   "cell_type": "code",
   "execution_count": 2,
   "metadata": {},
   "outputs": [],
   "source": [
    "#Load the https://www.residentadvisor.net/events page in your browser.\n",
    "from bs4 import BeautifulSoup\n",
    "import requests\n",
    "import re\n",
    "import pandas as pd"
   ]
  },
  {
   "cell_type": "markdown",
   "metadata": {},
   "source": [
    "## Open the Inspect Element Feature\n",
    "\n",
    "Next, open the inspect element feature from your web browser in order to preview the underlying HTML associated with the page."
   ]
  },
  {
   "cell_type": "code",
   "execution_count": null,
   "metadata": {},
   "outputs": [],
   "source": [
    "#Open the inspect element feature in your browser"
   ]
  },
  {
   "cell_type": "markdown",
   "metadata": {},
   "source": [
    "## Write a Function to Scrape all of the Events on the Given Page Events Page\n",
    "\n",
    "The function should return a Pandas DataFrame with columns for the Event_Name, Venue, Event_Date and Number_of_Attendees."
   ]
  },
  {
   "cell_type": "code",
   "execution_count": 3,
   "metadata": {},
   "outputs": [],
   "source": [
    "response = requests.get(\"https://www.residentadvisor.net/events/us/seattle\")\n",
    "soup = BeautifulSoup(response.content, 'html.parser')"
   ]
  },
  {
   "cell_type": "code",
   "execution_count": 12,
   "metadata": {
    "scrolled": true
   },
   "outputs": [
    {
     "data": {
      "text/plain": [
       "<div class=\"fl col4\" id=\"event-listing\">\n",
       "<ul class=\"list\" id=\"items\">\n",
       "<li><p class=\"eventDate date\"><a href=\"/events.aspx?ai=46&amp;v=day&amp;mn=6&amp;yr=2019&amp;dy=13\"><span>Thu, 13 Jun 2019 /</span></a></p></li><li class=\"\"><article class=\"event-item clearfix\" itemscope=\"\" itemtype=\"http://data-vocabulary.org/Event\"><span style=\"display:none;\"><time datetime=\"2019-06-13T00:00\" itemprop=\"startDate\">2019-06-13T00:00</time></span><a href=\"/events/1269543\"><img height=\"76\" src=\"/images/events/flyer/2019/6/us-0613-1269543-list.jpg\" width=\"152\"/></a><div class=\"bbox\"><h1 class=\"event-title\" itemprop=\"summary\"><a href=\"/events/1269543\" itemprop=\"url\" title=\"Event details of Field Trip 76: Yolanda Be Cool\">Field Trip 76: Yolanda Be Cool</a> <span>at <a href=\"/club.aspx?id=68203\">Q Nightclub</a></span></h1><div class=\"grey event-lineup\">Yolanda Be Cool</div><p class=\"attending\"><span>1</span> Attending</p></div></article></li><li><p class=\"eventDate date\"><a href=\"/events.aspx?ai=46&amp;v=day&amp;mn=6&amp;yr=2019&amp;dy=14\"><span>Fri, 14 Jun 2019 /</span></a></p></li><li class=\"\"><article class=\"event-item clearfix\" itemscope=\"\" itemtype=\"http://data-vocabulary.org/Event\"><span style=\"display:none;\"><time datetime=\"2019-06-14T00:00\" itemprop=\"startDate\">2019-06-14T00:00</time></span><a href=\"/events/1265473\"><img height=\"76\" src=\"/images/events/flyer/2019/6/us-0614-1265473-list.jpg\" width=\"152\"/></a><div class=\"bbox\"><h1 class=\"event-title\" itemprop=\"summary\"><a href=\"/events/1265473\" itemprop=\"url\" title=\"Event details of Noise Complaint Ft. Kill Frenzy &amp; Bones\">Noise Complaint Ft. Kill Frenzy &amp; Bones</a> <span>at <a href=\"/club.aspx?id=88733\">Kremwerk</a></span></h1><div class=\"grey event-lineup\">Kill Frenzy, Bones, Lars Gibbon, Julie Herrera, AuSteele, Floston, James Gatz, Jay Peeki, Minor</div><p class=\"attending\"><span>2</span> Attending</p></div></article></li><li><p class=\"eventDate date\"><a href=\"/events.aspx?ai=46&amp;v=day&amp;mn=6&amp;yr=2019&amp;dy=15\"><span>Sat, 15 Jun 2019 /</span></a></p></li><li class=\"\"><article class=\"event-item clearfix\" itemscope=\"\" itemtype=\"http://data-vocabulary.org/Event\"><span style=\"display:none;\"><time datetime=\"2019-06-15T00:00\" itemprop=\"startDate\">2019-06-15T00:00</time></span><a href=\"/events/1273647\"><img height=\"76\" src=\"/images/events/flyer/2019/6/us-0615-1273647-list.jpg\" width=\"152\"/></a><div class=\"bbox\"><h1 class=\"event-title\" itemprop=\"summary\"><a href=\"/events/1273647\" itemprop=\"url\" title=\"Event details of Depth: Truncate &amp; Shyboi with Sharlese\">Depth: Truncate &amp; Shyboi with Sharlese</a> <span>at <a href=\"/club.aspx?id=88733\">Kremwerk</a></span></h1><div class=\"grey event-lineup\">TRUNCATE, SHYBOI, SHARLESE</div><p class=\"attending\"><span>3</span> Attending</p></div></article></li><li><p class=\"eventDate date\"><a href=\"/events.aspx?ai=46&amp;v=day&amp;mn=6&amp;yr=2019&amp;dy=16\"><span>Sun, 16 Jun 2019 /</span></a></p></li><li class=\"\"><article class=\"event-item clearfix\" itemscope=\"\" itemtype=\"http://data-vocabulary.org/Event\"><span style=\"display:none;\"><time datetime=\"2019-06-16T00:00\" itemprop=\"startDate\">2019-06-16T00:00</time></span><a href=\"/events/1260006\"><img height=\"76\" src=\"/images/events/flyer/2019/6/us-0616-1260006-list.jpg\" width=\"152\"/></a><div class=\"bbox\"><h1 class=\"event-title\" itemprop=\"summary\"><a href=\"/events/1260006\" itemprop=\"url\" title=\"Event details of Forest For The Trees 2 - a Free all Ages day Park Party\">Forest For The Trees 2 - a Free all Ages day Park Party</a> <span>at <span class=\"grey\" style=\"display:inline;\">TBA - Seattle</span></span></h1><div class=\"grey event-lineup\">Brian Lyons, Eugene Fauntleroy, Black Velveteen, Mz Artiz, Dane Garfield Wilson, Succubass, Ramiro, Chad Neiro</div><p class=\"attending\"><span>6</span> Attending</p></div></article></li><li class=\"\"><article class=\"event-item clearfix\" itemscope=\"\" itemtype=\"http://data-vocabulary.org/Event\"><span style=\"display:none;\"><time datetime=\"2019-06-16T00:00\" itemprop=\"startDate\">2019-06-16T00:00</time></span><a href=\"/events/1276138\"><img height=\"76\" src=\"/images/events/flyer/2019/6/us-0616-1276138-list.jpg\" width=\"152\"/></a><div class=\"bbox\"><h1 class=\"event-title\" itemprop=\"summary\"><a href=\"/events/1276138\" itemprop=\"url\" title=\"Event details of OS: Steve Hauschildt\">OS: Steve Hauschildt</a> <span>at <span class=\"grey\" style=\"display:inline;\">Belltown Yacht Club</span></span></h1><div class=\"grey event-lineup\">Steve Hauschildt, CMD, Michael Vallera, K. Hudson</div><p class=\"attending\"><span>1</span> Attending</p></div></article></li>\n",
       "</ul>\n",
       "</div>"
      ]
     },
     "execution_count": 12,
     "metadata": {},
     "output_type": "execute_result"
    }
   ],
   "source": [
    "event_listings = soup.find('div', id=\"event-listing\")\n",
    "event_listings"
   ]
  },
  {
   "cell_type": "code",
   "execution_count": 8,
   "metadata": {},
   "outputs": [
    {
     "data": {
      "text/plain": [
       "<div class=\"strip slide small\" data-type=\"events\" id=\"events-listing\">\n",
       "<ul class=\"list small clearfix popular\" style=\"padding: 0;\">\n",
       "<li class=\"\">\n",
       "<article class=\"highlight-top\">\n",
       "<p>Sat, 15 Jun 2019</p>\n",
       "<a ga-event-action=\"popular-events\" ga-event-category=\"events-page\" ga-on=\"click\" href=\"/events/1273647\"><img class=\"nohide\" src=\"/images/events/flyer/2019/6/us-0615-1273647-list.jpg\"/></a>\n",
       "<p class=\"counter nohide\">\n",
       "<span>3</span> attending\n",
       "</p>\n",
       "<a ga-event-action=\"popular-events\" ga-event-category=\"events-page\" ga-on=\"click\" href=\"/events/1273647\">\n",
       "<h1>\n",
       "Depth: Truncate &amp; Shyboi with Sharlese\n",
       "</h1>\n",
       "</a>\n",
       "<p class=\"copy nohide\">\n",
       "<a href=\"\\club.aspx?id=88733\">Kremwerk</a>\n",
       "</p>\n",
       "</article>\n",
       "</li><li class=\"\">\n",
       "<article class=\"highlight-top\">\n",
       "<p>Sun, 16 Jun 2019</p>\n",
       "<a ga-event-action=\"popular-events\" ga-event-category=\"events-page\" ga-on=\"click\" href=\"/events/1260006\"><img class=\"nohide\" src=\"/images/events/flyer/2019/6/us-0616-1260006-list.jpg\"/></a>\n",
       "<p class=\"counter nohide\">\n",
       "<span>6</span> attending\n",
       "</p>\n",
       "<a ga-event-action=\"popular-events\" ga-event-category=\"events-page\" ga-on=\"click\" href=\"/events/1260006\">\n",
       "<h1>\n",
       "Forest For The Trees 2 - a Free all Ages day Park Party\n",
       "</h1>\n",
       "</a>\n",
       "<p class=\"copy nohide\">\n",
       "TBA - Seattle\n",
       "</p>\n",
       "</article>\n",
       "</li><li class=\"\">\n",
       "<article class=\"highlight-top\">\n",
       "<p>Thu, 20 Jun 2019</p>\n",
       "<a ga-event-action=\"popular-events\" ga-event-category=\"events-page\" ga-on=\"click\" href=\"/events/1268216\"><img class=\"nohide\" src=\"/images/events/flyer/2019/6/us-0620-1268216-list.jpg\"/></a>\n",
       "<p class=\"counter nohide\">\n",
       "<span>13</span> attending\n",
       "</p>\n",
       "<a ga-event-action=\"popular-events\" ga-event-category=\"events-page\" ga-on=\"click\" href=\"/events/1268216\">\n",
       "<h1>\n",
       "Deck'd Out #1 Opening Season Party with The Black Madonna &amp; Bottom Forty\n",
       "</h1>\n",
       "</a>\n",
       "<p class=\"copy nohide\">\n",
       "<a href=\"\\club.aspx?id=84493\">The Monkey Loft</a>\n",
       "</p>\n",
       "</article>\n",
       "</li><li class=\"\">\n",
       "<article class=\"highlight-top\">\n",
       "<p>Fri, 21 Jun 2019</p>\n",
       "<a ga-event-action=\"popular-events\" ga-event-category=\"events-page\" ga-on=\"click\" href=\"/events/1266675\"><img class=\"nohide\" src=\"/images/events/flyer/2019/6/us-0621-1266675-list.jpg\"/></a>\n",
       "<p class=\"counter nohide\">\n",
       "<span>8</span> attending\n",
       "</p>\n",
       "<a ga-event-action=\"popular-events\" ga-event-category=\"events-page\" ga-on=\"click\" href=\"/events/1266675\">\n",
       "<h1>\n",
       "Research: Octo Octa &amp; Physical Therapy\n",
       "</h1>\n",
       "</a>\n",
       "<p class=\"copy nohide\">\n",
       "<a href=\"\\club.aspx?id=88733\">Kremwerk</a>\n",
       "</p>\n",
       "</article>\n",
       "</li><li class=\"\">\n",
       "<article class=\"highlight-top\">\n",
       "<p>Wed, 26 Jun 2019</p>\n",
       "<a ga-event-action=\"popular-events\" ga-event-category=\"events-page\" ga-on=\"click\" href=\"/events/1277136\"><img class=\"nohide\" src=\"/images/events/flyer/dj/kedrlivanskiy-de-list.jpg\"/></a>\n",
       "<p class=\"counter nohide\">\n",
       "<span>2</span> attending\n",
       "</p>\n",
       "<a ga-event-action=\"popular-events\" ga-event-category=\"events-page\" ga-on=\"click\" href=\"/events/1277136\">\n",
       "<h1>\n",
       "AP: Kedr Livanskiy with Slowfoam &amp; 'Nohup'\n",
       "</h1>\n",
       "</a>\n",
       "<p class=\"copy nohide\">\n",
       "<a href=\"\\club.aspx?id=88733\">Kremwerk</a>\n",
       "</p>\n",
       "</article>\n",
       "</li><li class=\"\">\n",
       "<article class=\"highlight-top\">\n",
       "<p>Thu, 27 Jun 2019</p>\n",
       "<a ga-event-action=\"popular-events\" ga-event-category=\"events-page\" ga-on=\"click\" href=\"/events/1275534\"><img class=\"nohide\" src=\"/images/events/flyer/2019/6/us-0627-1275534-list.jpg\"/></a>\n",
       "<p class=\"counter nohide\">\n",
       "<span>8</span> attending\n",
       "</p>\n",
       "<a ga-event-action=\"popular-events\" ga-event-category=\"events-page\" ga-on=\"click\" href=\"/events/1275534\">\n",
       "<h1>\n",
       "Deck'd Out #2 Board of Deacons Return\n",
       "</h1>\n",
       "</a>\n",
       "<p class=\"copy nohide\">\n",
       "<a href=\"\\club.aspx?id=84493\">The Monkey Loft</a>\n",
       "</p>\n",
       "</article>\n",
       "</li><li class=\"\">\n",
       "<article class=\"highlight-top\">\n",
       "<p>Sat, 29 Jun 2019</p>\n",
       "<a ga-event-action=\"popular-events\" ga-event-category=\"events-page\" ga-on=\"click\" href=\"/events/1276069\"><img class=\"nohide\" src=\"/images/events/flyer/2019/6/us-0629-1276069-list.jpg\"/></a>\n",
       "<p class=\"counter nohide\">\n",
       "<span>2</span> attending\n",
       "</p>\n",
       "<a ga-event-action=\"popular-events\" ga-event-category=\"events-page\" ga-on=\"click\" href=\"/events/1276069\">\n",
       "<h1>\n",
       "Pride Is For Everyone with Femanyst\n",
       "</h1>\n",
       "</a>\n",
       "<p class=\"copy nohide\">\n",
       "<a href=\"\\club.aspx?id=133999\">Grims</a>\n",
       "</p>\n",
       "</article>\n",
       "</li><li class=\"\">\n",
       "<article class=\"highlight-top\">\n",
       "<p>Thu, 4 Jul 2019</p>\n",
       "<a ga-event-action=\"popular-events\" ga-event-category=\"events-page\" ga-on=\"click\" href=\"/events/1275539\"><img class=\"nohide\" src=\"/images/events/flyer/2019/7/us-0704-1275539-list.jpg\"/></a>\n",
       "<p class=\"counter nohide\">\n",
       "<span>2</span> attending\n",
       "</p>\n",
       "<a ga-event-action=\"popular-events\" ga-event-category=\"events-page\" ga-on=\"click\" href=\"/events/1275539\">\n",
       "<h1>\n",
       "Deck'd Out #3 Uniting Souls 22nd Year &amp; July 4th BBQ\n",
       "</h1>\n",
       "</a>\n",
       "<p class=\"copy nohide\">\n",
       "<a href=\"\\club.aspx?id=84493\">The Monkey Loft</a>\n",
       "</p>\n",
       "</article>\n",
       "</li> </ul>\n",
       "</div>"
      ]
     },
     "execution_count": 8,
     "metadata": {},
     "output_type": "execute_result"
    }
   ],
   "source": [
    "event_listings1 = soup.find('div', class_= \"strip slide small\")\n",
    "event_listings1"
   ]
  },
  {
   "cell_type": "code",
   "execution_count": 10,
   "metadata": {},
   "outputs": [
    {
     "name": "stdout",
     "output_type": "stream",
     "text": [
      "9 <li><p class=\"eventDate date\"><a href=\"/events.aspx?ai=46&amp;v=day&amp;mn=6&amp;yr=2019&amp;dy=13\"><span>Thu, 13 Jun 2019 /</span></a></p></li>\n"
     ]
    }
   ],
   "source": [
    "entries = event_listings.findAll('li')\n",
    "print(len(entries), entries[0])"
   ]
  },
  {
   "cell_type": "code",
   "execution_count": null,
   "metadata": {},
   "outputs": [],
   "source": [
    "rows = []\n",
    "for entry in entries:\n",
    "    #Is it a date? If so, set current date.\n",
    "    date = entry.find('p', class_=\"eventDate date\")\n",
    "    event = entry.find('h1', class_=\"event-title\")\n",
    "    if event:\n",
    "        details = event.text.split(' at ')\n",
    "        event_name = details[0].strip()\n",
    "        venue = details[1].strip()\n",
    "        try:\n",
    "            n_attendees = int(re.match(\"(\\d*)\", entry.find('p', class_=\"attending\").text)[0])\n",
    "        except:\n",
    "            n_attendees = np.nan\n",
    "        rows.append([event_name, venue, cur_date, n_attendees])\n",
    "    elif date:\n",
    "        cur_date = date.text\n",
    "    else:\n",
    "        continue\n",
    "df = pd.DataFrame(rows)\n",
    "df.head()"
   ]
  },
  {
   "cell_type": "code",
   "execution_count": null,
   "metadata": {},
   "outputs": [],
   "source": [
    "def scrape_events(events_page_url):\n",
    "    #Your code here\n",
    "    response = requests.get(events_page_url)\n",
    "    soup = BeautifulSoup(response.content, 'html.parser')\n",
    "    entries = event_listings.findAll('li')\n",
    "    rows = []\n",
    "    for entry in entries:\n",
    "        #Is it a date? If so, set current date.\n",
    "        date = entry.find('p', class_=\"eventDate date\")\n",
    "        event = entry.find('h1', class_=\"event-title\")\n",
    "        if event:\n",
    "            details = event.text.split(' at ')\n",
    "            event_name = details[0].strip()\n",
    "            venue = details[1].strip()\n",
    "            try:\n",
    "                n_attendees = int(re.match(\"(\\d*)\", entry.find('p', class_=\"attending\").text)[0])\n",
    "            except:\n",
    "                n_attendees = np.nan\n",
    "            rows.append([event_name, venue, cur_date, n_attendees])\n",
    "        elif date:\n",
    "            cur_date = date.text\n",
    "        else:\n",
    "            continue\n",
    "    df = pd.DataFrame(rows)\n",
    "    df.head()\n",
    "    df.columns = [\"Event_Name\", \"Venue\", \"Event_Date\", \"Number_of_Attendees\"]\n",
    "    return df"
   ]
  },
  {
   "cell_type": "markdown",
   "metadata": {},
   "source": [
    "## Write a Function to Retrieve the URL for the Next Page"
   ]
  },
  {
   "cell_type": "code",
   "execution_count": null,
   "metadata": {},
   "outputs": [],
   "source": [
    "def next_page(url):\n",
    "    #Your code here\n",
    "    return next_page_url"
   ]
  },
  {
   "cell_type": "markdown",
   "metadata": {},
   "source": [
    "## Scrape the Next 1000 Events for Your Area\n",
    "\n",
    "Display the data sorted by the number of attendees. If there is a tie for the number attending, sort by event date."
   ]
  },
  {
   "cell_type": "code",
   "execution_count": null,
   "metadata": {},
   "outputs": [],
   "source": [
    "#Your code here"
   ]
  },
  {
   "cell_type": "markdown",
   "metadata": {},
   "source": [
    "## Summary \n",
    "\n",
    "Congratulations! In this lab, you successfully scraped a website for concert event information!"
   ]
  }
 ],
 "metadata": {
  "kernelspec": {
   "display_name": "Python 3",
   "language": "python",
   "name": "python3"
  },
  "language_info": {
   "codemirror_mode": {
    "name": "ipython",
    "version": 3
   },
   "file_extension": ".py",
   "mimetype": "text/x-python",
   "name": "python",
   "nbconvert_exporter": "python",
   "pygments_lexer": "ipython3",
   "version": "3.6.6"
  }
 },
 "nbformat": 4,
 "nbformat_minor": 2
}
